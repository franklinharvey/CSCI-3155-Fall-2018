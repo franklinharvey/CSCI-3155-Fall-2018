{
 "cells": [
  {
   "cell_type": "markdown",
   "metadata": {},
   "source": [
    "# CSCI 3155 Recitation 8\n",
    "October 19, 2018"
   ]
  },
  {
   "cell_type": "markdown",
   "metadata": {},
   "source": [
    "## Continuations\n",
    "Continuations are functions we pass as arguments to other functions which capture what to \"do next\". Instead of writing:\n",
    "```\n",
    "def func() {\n",
    "    val x = doThing1()\n",
    "    val y = doThing2(x, 3)\n",
    "    doThing3()\n",
    "}\n",
    "```\n",
    "we can make every function call recursive by changing it to continuation passing style:\n",
    "```\n",
    "def func[X, Y](k: X => Y) {\n",
    "    doThing1(x => DoThing2(x, 3, y => doThing3(k))\n",
    "}\n",
    "```"
   ]
  },
  {
   "cell_type": "markdown",
   "metadata": {},
   "source": [
    "### Examples\n",
    "\n",
    "https://docs.google.com/presentation/d/1OlAu7pjBfKogQg6Z5Ykkid9FfWVH-yrSbPUCHMI-3HM/edit?usp=sharing"
   ]
  },
  {
   "cell_type": "markdown",
   "metadata": {},
   "source": [
    "### Exercise: Backtracking\n",
    "As with any good programing tool, we can use continuations to solve problems without putting them everywhere in our code. In this example, you will write a search function that looks for a value in a binary tree, **not** a B**S**T. Take advantage of continuations to remember where to look if something isn't found while keeping the function tail recursive."
   ]
  },
  {
   "cell_type": "code",
   "execution_count": 1,
   "metadata": {
    "deletable": false,
    "nbgrader": {
     "checksum": "642ed3d259f234ca0a30035136369963",
     "grade": false,
     "grade_id": "cell-bdaf875cad5b0678",
     "locked": false,
     "schema_version": 1,
     "solution": true
    }
   },
   "outputs": [
    {
     "data": {
      "text/plain": [
       "defined \u001b[32mtrait\u001b[39m \u001b[36mTree\u001b[39m\n",
       "defined \u001b[32mobject\u001b[39m \u001b[36mEmpty\u001b[39m\n",
       "defined \u001b[32mclass\u001b[39m \u001b[36mNode\u001b[39m\n",
       "defined \u001b[32mfunction\u001b[39m \u001b[36msearch\u001b[39m"
      ]
     },
     "execution_count": 1,
     "metadata": {},
     "output_type": "execute_result"
    }
   ],
   "source": [
    "sealed trait Tree\n",
    "case object Empty extends Tree\n",
    "case class Node(l: Tree, d: Int, r: Tree) extends Tree\n",
    "\n",
    "// def search(t: Tree, i: Int, fail_continuation: () => Boolean): Boolean = t match {\n",
    "//     case Empty => false\n",
    "//     case Node(l,j,r) if i==j => true\n",
    "//     case Node(l,j,r) => {\n",
    "//         val v1 = search(l,i)\n",
    "//         val v2 = search(r,i)\n",
    "//         v1||v2\n",
    "//     }\n",
    "// }\n",
    "\n",
    "def search(t: Tree, i: Int, fail_continuations: () => Boolean ): Boolean = \n",
    "    t match {\n",
    "        case Empty => fail_continuations()\n",
    "        case Node(l, j, r) if i==j => true\n",
    "        case Node(l, j, r) => {\n",
    "            search(l, i, () =>  {\n",
    "                search(r, i, () => {\n",
    "                    fail_continuations()\n",
    "                })\n",
    "            })\n",
    "        }\n",
    "    }"
   ]
  },
  {
   "cell_type": "code",
   "execution_count": 2,
   "metadata": {
    "deletable": false,
    "editable": false,
    "nbgrader": {
     "checksum": "dd256541b8b31031630538a5d44b9ec9",
     "grade": true,
     "grade_id": "cell-df2188387bae0d26",
     "locked": true,
     "points": 1,
     "schema_version": 1,
     "solution": false
    }
   },
   "outputs": [
    {
     "data": {
      "text/plain": [
       "\u001b[36mt\u001b[39m: \u001b[32mNode\u001b[39m = Node(Empty,10,Node(Empty,6,Empty))"
      ]
     },
     "execution_count": 2,
     "metadata": {},
     "output_type": "execute_result"
    }
   ],
   "source": [
    "val t = Node(Empty, 10, Node(Empty, 6, Empty))\n",
    "assert(search(t, 10, () => false))\n",
    "assert(!search(t, 0, () => false))"
   ]
  },
  {
   "cell_type": "markdown",
   "metadata": {},
   "source": [
    "### Exercise: Eval (again)\n",
    "\n",
    "This is similar to the example in class: implement eval for the small language given below, ensuring that every function call is a tail call."
   ]
  },
  {
   "cell_type": "code",
   "execution_count": 2,
   "metadata": {
    "deletable": false,
    "nbgrader": {
     "checksum": "6d6c6418ab141396bf408c7a889868cc",
     "grade": false,
     "grade_id": "cell-83c17e7eeba4b4e4",
     "locked": false,
     "schema_version": 1,
     "solution": true
    }
   },
   "outputs": [
    {
     "name": "stderr",
     "output_type": "stream",
     "text": [
      "cmd2.sc:7: not found: value x\n",
      "    x match {\n",
      "    ^cmd2.sc:10: not found: value l\n",
      "            eval(l, (val_l) => {\n",
      "                 ^cmd2.sc:11: not found: value r\n",
      "                 eval(r, (val_r) => {\n",
      "                      ^cmd2.sc:16: not found: value i\n",
      "            eval(i, (vi) => {\n",
      "                 ^cmd2.sc:17: type mismatch;\n",
      " found   : cmd2Wrapper.this.cmd1.cmd0.wrapper.Node\n",
      " required: Helper.this.Expr\n",
      "                eval(t, (vt) => {\n",
      "                     ^"
     ]
    },
    {
     "ename": "",
     "evalue": "",
     "output_type": "error",
     "traceback": [
      "Compilation Failed"
     ]
    }
   ],
   "source": [
    "sealed trait Expr\n",
    "case class BoolLiteral(b: Boolean) extends Expr\n",
    "case class And(left: Expr, right: Expr) extends Expr\n",
    "case class If(test: Expr, then: Expr, otherwise: Expr) extends Expr\n",
    "\n",
    "def eval(e: Expr, ret: Boolean => Boolean): Boolean =\n",
    "    x match {\n",
    "        case BoolLiteral(b) => ret(b)\n",
    "        case And(left, right) => \n",
    "            eval(l, (val_l) => {\n",
    "                 eval(r, (val_r) => {\n",
    "                      ret(val_l&&val_r)\n",
    "                 })\n",
    "            })\n",
    "        case If(test, then, otherwise) => \n",
    "            eval(i, (vi) => {\n",
    "                eval(t, (vt) => {\n",
    "                    eval(e, (ve) => {\n",
    "                        ret(if (vi) vt else ve)\n",
    "                    })\n",
    "                })\n",
    "            })\n",
    "    }"
   ]
  },
  {
   "cell_type": "code",
   "execution_count": null,
   "metadata": {
    "collapsed": true,
    "deletable": false,
    "editable": false,
    "nbgrader": {
     "checksum": "0242e1fd169c8d12abf0b1ab3f4927ae",
     "grade": true,
     "grade_id": "cell-c127bcc04c6197cc",
     "locked": true,
     "points": 1,
     "schema_version": 1,
     "solution": false
    }
   },
   "outputs": [],
   "source": [
    "val e = If(\n",
    "    And(BoolLiteral(true), BoolLiteral(true)),\n",
    "    BoolLiteral(false),\n",
    "    BoolLiteral(true)\n",
    ")\n",
    "assert(!eval(e, x => x))"
   ]
  },
  {
   "cell_type": "markdown",
   "metadata": {},
   "source": [
    "## Polymorphism\n",
    "\n",
    "Polymorphism allows us to write reusable, type safe code. This is also called type parameters, generics, template parameters, or type variables.\n",
    "\n",
    "As a reminder, we list type parameters in brackets similarly to how we list regular parameters in parentheses:"
   ]
  },
  {
   "cell_type": "code",
   "execution_count": null,
   "metadata": {
    "collapsed": true
   },
   "outputs": [],
   "source": [
    "def id[T](t: T): T = t\n",
    "// OR\n",
    "case class C[T](t: T) {\n",
    "    def get: T = t\n",
    "}"
   ]
  },
  {
   "cell_type": "markdown",
   "metadata": {},
   "source": [
    "Type inference works just the same for these as it does for concrete types, and the scope of type parameters is the function body, like regular parameters:"
   ]
  },
  {
   "cell_type": "code",
   "execution_count": null,
   "metadata": {
    "collapsed": true
   },
   "outputs": [],
   "source": [
    "def f[T](t: T): T = {\n",
    "    val t2: T = t\n",
    "    val t3    = t2\n",
    "    t3\n",
    "}"
   ]
  },
  {
   "cell_type": "markdown",
   "metadata": {},
   "source": [
    "### Exercise: Reusable data structures\n",
    "Make a reusable tree data structure which can hold any arbitrary type at it's nodes, as long as all nodes in the tree have the same type. Use the constructors `Empty` and `Node`"
   ]
  },
  {
   "cell_type": "code",
   "execution_count": null,
   "metadata": {
    "collapsed": true,
    "deletable": false,
    "nbgrader": {
     "checksum": "681efedb5e01136eef55684b68fce36a",
     "grade": false,
     "grade_id": "cell-89ce853776b2aa84",
     "locked": false,
     "schema_version": 1,
     "solution": true
    }
   },
   "outputs": [],
   "source": [
    "sealed trait TreePoly[T]\n",
    "// YOUR CODE HERE\n",
    "???"
   ]
  },
  {
   "cell_type": "code",
   "execution_count": null,
   "metadata": {
    "collapsed": true
   },
   "outputs": [],
   "source": [
    "// This should compile:\n",
    "val t = NodePoly(\n",
    "    NodePoly(\n",
    "        EmptyPoly(),\n",
    "        5,\n",
    "        EmptyPoly()),\n",
    "    6,\n",
    "    EmptyPoly())"
   ]
  },
  {
   "cell_type": "code",
   "execution_count": null,
   "metadata": {
    "collapsed": true
   },
   "outputs": [],
   "source": [
    "// This should NOT compile:\n",
    "NodePoly(\n",
    "    NodePoly(\n",
    "        EmptyPoly(),\n",
    "        5,\n",
    "        EmptyPoly()),\n",
    "    \"6\",\n",
    "    EmptyPoly())"
   ]
  },
  {
   "cell_type": "markdown",
   "metadata": {},
   "source": [
    "> _Side-note_: for those that are anoyed by the need to make a \"new\" empty node each time as opposed to before where we could just have one `case object`, we can get around it as follows (see https://stackoverflow.com/questions/7399044/scala-upper-type-bounds-and-parent-classes)\n",
    "> \n",
    "> ```\n",
    "sealed trait Tree[+T]\n",
    "case object Empty extends Tree[Nothing]\n",
    "```"
   ]
  },
  {
   "cell_type": "markdown",
   "metadata": {},
   "source": [
    "### Exercise: generic functions\n",
    "Implement map, which should allow someone to take a `Tree[X]` and a function `X => Y` and get out a `Tree[Y]`. Do this with continuations."
   ]
  },
  {
   "cell_type": "code",
   "execution_count": null,
   "metadata": {
    "collapsed": true,
    "deletable": false,
    "nbgrader": {
     "checksum": "a4605a0b0659070b77f71e275c0db21e",
     "grade": false,
     "grade_id": "cell-11843a63b5b7990f",
     "locked": false,
     "schema_version": 1,
     "solution": true
    }
   },
   "outputs": [],
   "source": [
    "// YOUR CODE HERE\n",
    "???"
   ]
  },
  {
   "cell_type": "code",
   "execution_count": null,
   "metadata": {
    "collapsed": true,
    "deletable": false,
    "editable": false,
    "nbgrader": {
     "checksum": "6707e64b9155ab823816b24c660f9c81",
     "grade": true,
     "grade_id": "cell-d725bf4fbe8683ac",
     "locked": true,
     "points": 1,
     "schema_version": 1,
     "solution": false
    }
   },
   "outputs": [],
   "source": [
    "// TEST\n",
    "val t2 = NodePoly(\n",
    "    NodePoly(\n",
    "        EmptyPoly(),\n",
    "        \"5\",\n",
    "        EmptyPoly()),\n",
    "    \"6\",\n",
    "    EmptyPoly())\n",
    "\n",
    "assert(map(t, (i: Int) => i.toString, id[TreePoly[String]]) == t2)\n",
    "// TEST"
   ]
  }
 ],
 "metadata": {
  "kernelspec": {
   "display_name": "Scala",
   "language": "scala",
   "name": "scala"
  },
  "language_info": {
   "codemirror_mode": "text/x-scala",
   "file_extension": ".scala",
   "mimetype": "text/x-scala",
   "name": "scala211",
   "nbconvert_exporter": "script",
   "pygments_lexer": "scala",
   "version": "2.11.11"
  }
 },
 "nbformat": 4,
 "nbformat_minor": 2
}
